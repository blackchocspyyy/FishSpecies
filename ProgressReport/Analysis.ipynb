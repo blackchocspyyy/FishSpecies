{
 "cells": [
  {
   "cell_type": "markdown",
   "metadata": {},
   "source": [
    "# Model Training"
   ]
  },
  {
   "cell_type": "code",
   "execution_count": 26,
   "metadata": {},
   "outputs": [],
   "source": [
    "# Import packages\n",
    "import pandas as pd\n",
    "import numpy as np\n",
    "import matplotlib.pyplot as plt\n",
    "import seaborn as sns\n",
    "import plotly.express as px\n",
    "import plotly.graph_objects as go\n",
    "from sklearn.ensemble import RandomForestClassifier\n",
    "from sklearn.model_selection import train_test_split, LeaveOneGroupOut\n",
    "from sklearn.linear_model import LogisticRegression\n",
    "from sklearn.metrics import accuracy_score, roc_auc_score\n",
    "import re\n",
    "from sklearn.preprocessing import StandardScaler\n",
    "from sklearn.decomposition import PCA\n",
    "import xgboost as xgb\n",
    "from sklearn.model_selection import RandomizedSearchCV\n",
    "from imblearn.over_sampling import SMOTE\n",
    "import scipy.stats as stats\n",
    "from keras.preprocessing.sequence import pad_sequences\n",
    "from itertools import product\n",
    "from keras.models import Sequential\n",
    "from keras.layers import LSTM, Dense, Masking"
   ]
  },
  {
   "cell_type": "markdown",
   "metadata": {},
   "source": [
    "## Load the datasets"
   ]
  },
  {
   "cell_type": "code",
   "execution_count": 4,
   "metadata": {},
   "outputs": [],
   "source": [
    "# List of datasets (based on the filiters in the proposal)\n",
    "df_list = ['LT009.csv', 'LT010.csv', 'LT011.csv', \n",
    "            'LT012.csv', 'LT014.csv', 'LT016.csv', 'LT017.csv', \n",
    "            'LT018.csv', 'LT021.csv', 'SMB001.csv', 'SMB002.csv', \n",
    "            'SMB005.csv', 'SMB006.csv', 'SMB007.csv',\n",
    "            'SMB011.csv', 'SMB012.csv']"
   ]
  },
  {
   "cell_type": "code",
   "execution_count": 5,
   "metadata": {},
   "outputs": [],
   "source": [
    "# Load all datasets into a dictionary\n",
    "dataframes = {}\n",
    "for dataset in df_list:\n",
    "    var_name = dataset.replace(\".csv\", \"\")\n",
    "    dataframes[var_name] = pd.read_csv(\"../data/\" + dataset)"
   ]
  },
  {
   "cell_type": "code",
   "execution_count": 6,
   "metadata": {},
   "outputs": [],
   "source": [
    "# Combine all datasets into one DataFrame\n",
    "df = pd.concat(dataframes.values(), ignore_index=True)"
   ]
  },
  {
   "cell_type": "code",
   "execution_count": 7,
   "metadata": {},
   "outputs": [],
   "source": [
    "# Split the dataset by species\n",
    "lt_df = df[df['species'] == 'lakeTrout']\n",
    "smb_df = df[df['species'] == 'smallmouthBass']"
   ]
  },
  {
   "cell_type": "code",
   "execution_count": 8,
   "metadata": {},
   "outputs": [
    {
     "name": "stdout",
     "output_type": "stream",
     "text": [
      "     dateProcessed               Ping_time\n",
      "0       2022-07-26 2022-07-26 15:01:17.016\n",
      "1       2022-07-26 2022-07-26 15:01:17.220\n",
      "2       2022-07-26 2022-07-26 15:01:19.119\n",
      "3       2022-07-26 2022-07-26 15:01:19.220\n",
      "4       2022-07-26 2022-07-26 15:04:37.217\n",
      "...            ...                     ...\n",
      "6080    2022-07-28 2022-07-28 00:17:22.964\n",
      "6081    2022-07-28 2022-07-28 00:17:25.964\n",
      "6082    2022-07-28 2022-07-28 00:17:26.163\n",
      "6083    2022-07-28 2022-07-28 00:17:40.564\n",
      "6084    2022-07-28 2022-07-28 00:17:40.764\n",
      "\n",
      "[6085 rows x 2 columns]\n"
     ]
    }
   ],
   "source": [
    "# Convert 'dateProcessed' to proper datetime\n",
    "df[\"dateProcessed\"] = pd.to_datetime(df[\"dateProcessed\"])\n",
    "\n",
    "# Convert 'Ping_time' to a time format\n",
    "df[\"Ping_time\"] = pd.to_datetime(df[\"Ping_time\"].str.strip(), format=\"%H:%M:%S.%f\").dt.time\n",
    "\n",
    "# Merge dateProcessed (date) and Ping_time (time) into one datetime column\n",
    "df[\"Ping_time\"] = df.apply(lambda row: pd.Timestamp.combine(row[\"dateProcessed\"], row[\"Ping_time\"]), axis=1)\n",
    "\n",
    "# Verify output\n",
    "print(df[[\"dateProcessed\", \"Ping_time\"]])"
   ]
  },
  {
   "cell_type": "code",
   "execution_count": 9,
   "metadata": {},
   "outputs": [],
   "source": [
    "# Use regex to select columns that start with \"F\" followed by a number\n",
    "f_number_cols = [col for col in df.columns if re.match(r'^F\\d+(\\.\\d+)?$', col)]\n",
    "\n",
    "# Filter the dataset to keep only these columns\n",
    "df_filtered = df[[\"fishNum\", \"species\", \"dateProcessed\", \"Ping_time\"] + f_number_cols]"
   ]
  },
  {
   "cell_type": "code",
   "execution_count": 10,
   "metadata": {},
   "outputs": [],
   "source": [
    "# Extract unique fish IDs\n",
    "fish_ids = df_filtered['fishNum'].unique()\n",
    "\n",
    "# Store results\n",
    "accuracies = []\n"
   ]
  },
  {
   "cell_type": "code",
   "execution_count": 11,
   "metadata": {},
   "outputs": [
    {
     "data": {
      "text/plain": [
       "array(['LT009', 'LT010', 'LT011', 'LT012', 'LT014', 'LT016', 'LT017',\n",
       "       'LT018', 'LT021', 'SMB001', 'SMB002', 'SMB005', 'SMB006', 'SMB007',\n",
       "       'SMB011', 'SMB012'], dtype=object)"
      ]
     },
     "execution_count": 11,
     "metadata": {},
     "output_type": "execute_result"
    }
   ],
   "source": [
    "fish_ids"
   ]
  },
  {
   "cell_type": "code",
   "execution_count": 12,
   "metadata": {},
   "outputs": [],
   "source": [
    "# Compute variance of frequency features\n",
    "variance = df_filtered[f_number_cols].var()"
   ]
  },
  {
   "cell_type": "code",
   "execution_count": 13,
   "metadata": {},
   "outputs": [],
   "source": [
    "# Identify low-variance features (threshold = 0.01 for now)\n",
    "low_variance_features = variance[variance < 0.01].index\n",
    "\n",
    "# Compute correlation matrix\n",
    "correlation_matrix = df_filtered[f_number_cols].corr().abs()"
   ]
  },
  {
   "cell_type": "code",
   "execution_count": 14,
   "metadata": {},
   "outputs": [
    {
     "data": {
      "text/html": [
       "<div>\n",
       "<style scoped>\n",
       "    .dataframe tbody tr th:only-of-type {\n",
       "        vertical-align: middle;\n",
       "    }\n",
       "\n",
       "    .dataframe tbody tr th {\n",
       "        vertical-align: top;\n",
       "    }\n",
       "\n",
       "    .dataframe thead th {\n",
       "        text-align: right;\n",
       "    }\n",
       "</style>\n",
       "<table border=\"1\" class=\"dataframe\">\n",
       "  <thead>\n",
       "    <tr style=\"text-align: right;\">\n",
       "      <th></th>\n",
       "      <th>F45</th>\n",
       "      <th>F45.5</th>\n",
       "      <th>F46</th>\n",
       "      <th>F46.5</th>\n",
       "      <th>F47</th>\n",
       "      <th>F47.5</th>\n",
       "      <th>F48</th>\n",
       "      <th>F48.5</th>\n",
       "      <th>F49</th>\n",
       "      <th>F49.5</th>\n",
       "      <th>...</th>\n",
       "      <th>F255.5</th>\n",
       "      <th>F256</th>\n",
       "      <th>F256.5</th>\n",
       "      <th>F257</th>\n",
       "      <th>F257.5</th>\n",
       "      <th>F258</th>\n",
       "      <th>F258.5</th>\n",
       "      <th>F259</th>\n",
       "      <th>F259.5</th>\n",
       "      <th>F260</th>\n",
       "    </tr>\n",
       "  </thead>\n",
       "  <tbody>\n",
       "    <tr>\n",
       "      <th>F45</th>\n",
       "      <td>1.000000</td>\n",
       "      <td>0.925578</td>\n",
       "      <td>0.817663</td>\n",
       "      <td>0.698382</td>\n",
       "      <td>0.616939</td>\n",
       "      <td>0.568117</td>\n",
       "      <td>0.525920</td>\n",
       "      <td>0.486998</td>\n",
       "      <td>0.455559</td>\n",
       "      <td>0.421105</td>\n",
       "      <td>...</td>\n",
       "      <td>0.254512</td>\n",
       "      <td>0.267778</td>\n",
       "      <td>0.277292</td>\n",
       "      <td>0.285232</td>\n",
       "      <td>0.279727</td>\n",
       "      <td>0.279601</td>\n",
       "      <td>0.292153</td>\n",
       "      <td>0.287643</td>\n",
       "      <td>0.286957</td>\n",
       "      <td>0.287015</td>\n",
       "    </tr>\n",
       "    <tr>\n",
       "      <th>F45.5</th>\n",
       "      <td>0.925578</td>\n",
       "      <td>1.000000</td>\n",
       "      <td>0.938818</td>\n",
       "      <td>0.820021</td>\n",
       "      <td>0.715581</td>\n",
       "      <td>0.639404</td>\n",
       "      <td>0.580177</td>\n",
       "      <td>0.533465</td>\n",
       "      <td>0.498937</td>\n",
       "      <td>0.462027</td>\n",
       "      <td>...</td>\n",
       "      <td>0.252607</td>\n",
       "      <td>0.264700</td>\n",
       "      <td>0.273301</td>\n",
       "      <td>0.285709</td>\n",
       "      <td>0.281111</td>\n",
       "      <td>0.282042</td>\n",
       "      <td>0.294522</td>\n",
       "      <td>0.291122</td>\n",
       "      <td>0.283186</td>\n",
       "      <td>0.285507</td>\n",
       "    </tr>\n",
       "    <tr>\n",
       "      <th>F46</th>\n",
       "      <td>0.817663</td>\n",
       "      <td>0.938818</td>\n",
       "      <td>1.000000</td>\n",
       "      <td>0.937683</td>\n",
       "      <td>0.835332</td>\n",
       "      <td>0.738792</td>\n",
       "      <td>0.656418</td>\n",
       "      <td>0.593296</td>\n",
       "      <td>0.548231</td>\n",
       "      <td>0.506709</td>\n",
       "      <td>...</td>\n",
       "      <td>0.255235</td>\n",
       "      <td>0.267294</td>\n",
       "      <td>0.271794</td>\n",
       "      <td>0.287933</td>\n",
       "      <td>0.289571</td>\n",
       "      <td>0.288128</td>\n",
       "      <td>0.301806</td>\n",
       "      <td>0.300312</td>\n",
       "      <td>0.287714</td>\n",
       "      <td>0.288848</td>\n",
       "    </tr>\n",
       "    <tr>\n",
       "      <th>F46.5</th>\n",
       "      <td>0.698382</td>\n",
       "      <td>0.820021</td>\n",
       "      <td>0.937683</td>\n",
       "      <td>1.000000</td>\n",
       "      <td>0.937943</td>\n",
       "      <td>0.837913</td>\n",
       "      <td>0.737283</td>\n",
       "      <td>0.654266</td>\n",
       "      <td>0.597423</td>\n",
       "      <td>0.545035</td>\n",
       "      <td>...</td>\n",
       "      <td>0.252160</td>\n",
       "      <td>0.260503</td>\n",
       "      <td>0.264859</td>\n",
       "      <td>0.281798</td>\n",
       "      <td>0.286985</td>\n",
       "      <td>0.286143</td>\n",
       "      <td>0.299438</td>\n",
       "      <td>0.300488</td>\n",
       "      <td>0.286206</td>\n",
       "      <td>0.286031</td>\n",
       "    </tr>\n",
       "    <tr>\n",
       "      <th>F47</th>\n",
       "      <td>0.616939</td>\n",
       "      <td>0.715581</td>\n",
       "      <td>0.835332</td>\n",
       "      <td>0.937943</td>\n",
       "      <td>1.000000</td>\n",
       "      <td>0.938575</td>\n",
       "      <td>0.835795</td>\n",
       "      <td>0.735695</td>\n",
       "      <td>0.658888</td>\n",
       "      <td>0.594723</td>\n",
       "      <td>...</td>\n",
       "      <td>0.247361</td>\n",
       "      <td>0.251672</td>\n",
       "      <td>0.256961</td>\n",
       "      <td>0.277361</td>\n",
       "      <td>0.284927</td>\n",
       "      <td>0.287256</td>\n",
       "      <td>0.298993</td>\n",
       "      <td>0.302613</td>\n",
       "      <td>0.287437</td>\n",
       "      <td>0.284230</td>\n",
       "    </tr>\n",
       "    <tr>\n",
       "      <th>...</th>\n",
       "      <td>...</td>\n",
       "      <td>...</td>\n",
       "      <td>...</td>\n",
       "      <td>...</td>\n",
       "      <td>...</td>\n",
       "      <td>...</td>\n",
       "      <td>...</td>\n",
       "      <td>...</td>\n",
       "      <td>...</td>\n",
       "      <td>...</td>\n",
       "      <td>...</td>\n",
       "      <td>...</td>\n",
       "      <td>...</td>\n",
       "      <td>...</td>\n",
       "      <td>...</td>\n",
       "      <td>...</td>\n",
       "      <td>...</td>\n",
       "      <td>...</td>\n",
       "      <td>...</td>\n",
       "      <td>...</td>\n",
       "      <td>...</td>\n",
       "    </tr>\n",
       "    <tr>\n",
       "      <th>F258</th>\n",
       "      <td>0.279601</td>\n",
       "      <td>0.282042</td>\n",
       "      <td>0.288128</td>\n",
       "      <td>0.286143</td>\n",
       "      <td>0.287256</td>\n",
       "      <td>0.292597</td>\n",
       "      <td>0.291563</td>\n",
       "      <td>0.279886</td>\n",
       "      <td>0.268457</td>\n",
       "      <td>0.259397</td>\n",
       "      <td>...</td>\n",
       "      <td>0.426520</td>\n",
       "      <td>0.452107</td>\n",
       "      <td>0.517056</td>\n",
       "      <td>0.649360</td>\n",
       "      <td>0.834036</td>\n",
       "      <td>1.000000</td>\n",
       "      <td>0.834931</td>\n",
       "      <td>0.651949</td>\n",
       "      <td>0.500447</td>\n",
       "      <td>0.449042</td>\n",
       "    </tr>\n",
       "    <tr>\n",
       "      <th>F258.5</th>\n",
       "      <td>0.292153</td>\n",
       "      <td>0.294522</td>\n",
       "      <td>0.301806</td>\n",
       "      <td>0.299438</td>\n",
       "      <td>0.298993</td>\n",
       "      <td>0.305553</td>\n",
       "      <td>0.305209</td>\n",
       "      <td>0.291913</td>\n",
       "      <td>0.281806</td>\n",
       "      <td>0.272266</td>\n",
       "      <td>...</td>\n",
       "      <td>0.468390</td>\n",
       "      <td>0.453696</td>\n",
       "      <td>0.461742</td>\n",
       "      <td>0.523377</td>\n",
       "      <td>0.637194</td>\n",
       "      <td>0.834931</td>\n",
       "      <td>1.000000</td>\n",
       "      <td>0.851780</td>\n",
       "      <td>0.644244</td>\n",
       "      <td>0.529446</td>\n",
       "    </tr>\n",
       "    <tr>\n",
       "      <th>F259</th>\n",
       "      <td>0.287643</td>\n",
       "      <td>0.291122</td>\n",
       "      <td>0.300312</td>\n",
       "      <td>0.300488</td>\n",
       "      <td>0.302613</td>\n",
       "      <td>0.305486</td>\n",
       "      <td>0.300174</td>\n",
       "      <td>0.286790</td>\n",
       "      <td>0.276507</td>\n",
       "      <td>0.265033</td>\n",
       "      <td>...</td>\n",
       "      <td>0.509008</td>\n",
       "      <td>0.480708</td>\n",
       "      <td>0.462172</td>\n",
       "      <td>0.476601</td>\n",
       "      <td>0.520066</td>\n",
       "      <td>0.651949</td>\n",
       "      <td>0.851780</td>\n",
       "      <td>1.000000</td>\n",
       "      <td>0.841404</td>\n",
       "      <td>0.664431</td>\n",
       "    </tr>\n",
       "    <tr>\n",
       "      <th>F259.5</th>\n",
       "      <td>0.286957</td>\n",
       "      <td>0.283186</td>\n",
       "      <td>0.287714</td>\n",
       "      <td>0.286206</td>\n",
       "      <td>0.287437</td>\n",
       "      <td>0.287280</td>\n",
       "      <td>0.278982</td>\n",
       "      <td>0.267312</td>\n",
       "      <td>0.261178</td>\n",
       "      <td>0.251218</td>\n",
       "      <td>...</td>\n",
       "      <td>0.512254</td>\n",
       "      <td>0.504005</td>\n",
       "      <td>0.474280</td>\n",
       "      <td>0.447740</td>\n",
       "      <td>0.440457</td>\n",
       "      <td>0.500447</td>\n",
       "      <td>0.644244</td>\n",
       "      <td>0.841404</td>\n",
       "      <td>1.000000</td>\n",
       "      <td>0.837790</td>\n",
       "    </tr>\n",
       "    <tr>\n",
       "      <th>F260</th>\n",
       "      <td>0.287015</td>\n",
       "      <td>0.285507</td>\n",
       "      <td>0.288848</td>\n",
       "      <td>0.286031</td>\n",
       "      <td>0.284230</td>\n",
       "      <td>0.285003</td>\n",
       "      <td>0.275786</td>\n",
       "      <td>0.266839</td>\n",
       "      <td>0.263271</td>\n",
       "      <td>0.256425</td>\n",
       "      <td>...</td>\n",
       "      <td>0.489844</td>\n",
       "      <td>0.525225</td>\n",
       "      <td>0.515847</td>\n",
       "      <td>0.473449</td>\n",
       "      <td>0.433404</td>\n",
       "      <td>0.449042</td>\n",
       "      <td>0.529446</td>\n",
       "      <td>0.664431</td>\n",
       "      <td>0.837790</td>\n",
       "      <td>1.000000</td>\n",
       "    </tr>\n",
       "  </tbody>\n",
       "</table>\n",
       "<p>426 rows × 426 columns</p>\n",
       "</div>"
      ],
      "text/plain": [
       "             F45     F45.5       F46     F46.5       F47     F47.5       F48  \\\n",
       "F45     1.000000  0.925578  0.817663  0.698382  0.616939  0.568117  0.525920   \n",
       "F45.5   0.925578  1.000000  0.938818  0.820021  0.715581  0.639404  0.580177   \n",
       "F46     0.817663  0.938818  1.000000  0.937683  0.835332  0.738792  0.656418   \n",
       "F46.5   0.698382  0.820021  0.937683  1.000000  0.937943  0.837913  0.737283   \n",
       "F47     0.616939  0.715581  0.835332  0.937943  1.000000  0.938575  0.835795   \n",
       "...          ...       ...       ...       ...       ...       ...       ...   \n",
       "F258    0.279601  0.282042  0.288128  0.286143  0.287256  0.292597  0.291563   \n",
       "F258.5  0.292153  0.294522  0.301806  0.299438  0.298993  0.305553  0.305209   \n",
       "F259    0.287643  0.291122  0.300312  0.300488  0.302613  0.305486  0.300174   \n",
       "F259.5  0.286957  0.283186  0.287714  0.286206  0.287437  0.287280  0.278982   \n",
       "F260    0.287015  0.285507  0.288848  0.286031  0.284230  0.285003  0.275786   \n",
       "\n",
       "           F48.5       F49     F49.5  ...    F255.5      F256    F256.5  \\\n",
       "F45     0.486998  0.455559  0.421105  ...  0.254512  0.267778  0.277292   \n",
       "F45.5   0.533465  0.498937  0.462027  ...  0.252607  0.264700  0.273301   \n",
       "F46     0.593296  0.548231  0.506709  ...  0.255235  0.267294  0.271794   \n",
       "F46.5   0.654266  0.597423  0.545035  ...  0.252160  0.260503  0.264859   \n",
       "F47     0.735695  0.658888  0.594723  ...  0.247361  0.251672  0.256961   \n",
       "...          ...       ...       ...  ...       ...       ...       ...   \n",
       "F258    0.279886  0.268457  0.259397  ...  0.426520  0.452107  0.517056   \n",
       "F258.5  0.291913  0.281806  0.272266  ...  0.468390  0.453696  0.461742   \n",
       "F259    0.286790  0.276507  0.265033  ...  0.509008  0.480708  0.462172   \n",
       "F259.5  0.267312  0.261178  0.251218  ...  0.512254  0.504005  0.474280   \n",
       "F260    0.266839  0.263271  0.256425  ...  0.489844  0.525225  0.515847   \n",
       "\n",
       "            F257    F257.5      F258    F258.5      F259    F259.5      F260  \n",
       "F45     0.285232  0.279727  0.279601  0.292153  0.287643  0.286957  0.287015  \n",
       "F45.5   0.285709  0.281111  0.282042  0.294522  0.291122  0.283186  0.285507  \n",
       "F46     0.287933  0.289571  0.288128  0.301806  0.300312  0.287714  0.288848  \n",
       "F46.5   0.281798  0.286985  0.286143  0.299438  0.300488  0.286206  0.286031  \n",
       "F47     0.277361  0.284927  0.287256  0.298993  0.302613  0.287437  0.284230  \n",
       "...          ...       ...       ...       ...       ...       ...       ...  \n",
       "F258    0.649360  0.834036  1.000000  0.834931  0.651949  0.500447  0.449042  \n",
       "F258.5  0.523377  0.637194  0.834931  1.000000  0.851780  0.644244  0.529446  \n",
       "F259    0.476601  0.520066  0.651949  0.851780  1.000000  0.841404  0.664431  \n",
       "F259.5  0.447740  0.440457  0.500447  0.644244  0.841404  1.000000  0.837790  \n",
       "F260    0.473449  0.433404  0.449042  0.529446  0.664431  0.837790  1.000000  \n",
       "\n",
       "[426 rows x 426 columns]"
      ]
     },
     "execution_count": 14,
     "metadata": {},
     "output_type": "execute_result"
    }
   ],
   "source": [
    "correlation_matrix"
   ]
  },
  {
   "cell_type": "code",
   "execution_count": 15,
   "metadata": {},
   "outputs": [
    {
     "data": {
      "text/plain": [
       "(426,\n",
       " 394,\n",
       " ['F208',\n",
       "  'F170',\n",
       "  'F256.5',\n",
       "  'F140.5',\n",
       "  'F194',\n",
       "  'F200',\n",
       "  'F204',\n",
       "  'F144.5',\n",
       "  'F106',\n",
       "  'F149'])"
      ]
     },
     "execution_count": 15,
     "metadata": {},
     "output_type": "execute_result"
    }
   ],
   "source": [
    "# Identify highly correlated features (threshold = 0.95)\n",
    "high_correlation_pairs = set()\n",
    "for i in range(len(correlation_matrix.columns)):\n",
    "    for j in range(i + 1, len(correlation_matrix.columns)):\n",
    "        if correlation_matrix.iloc[i, j] > 0.95:\n",
    "            high_correlation_pairs.add((correlation_matrix.columns[i], correlation_matrix.columns[j]))\n",
    "\n",
    "# Select one feature per correlated group\n",
    "selected_features = set(f_number_cols) - set(low_variance_features)\n",
    "for f1, f2 in high_correlation_pairs:\n",
    "    if f2 in selected_features:  # Remove the second feature of the pair\n",
    "        selected_features.remove(f2)\n",
    "\n",
    "# Display the number of features before and after reduction\n",
    "len_before = len(f_number_cols)\n",
    "len_after = len(selected_features)\n",
    "\n",
    "len_before, len_after, list(selected_features)[:10]  # Show first 10 selected features as a preview\n"
   ]
  },
  {
   "cell_type": "code",
   "execution_count": 16,
   "metadata": {},
   "outputs": [
    {
     "name": "stderr",
     "output_type": "stream",
     "text": [
      "/var/folders/46/_qfvxk655mzdxw5h9v4z7ybw0000gn/T/ipykernel_27685/630912038.py:2: SettingWithCopyWarning: \n",
      "A value is trying to be set on a copy of a slice from a DataFrame.\n",
      "Try using .loc[row_indexer,col_indexer] = value instead\n",
      "\n",
      "See the caveats in the documentation: https://pandas.pydata.org/pandas-docs/stable/user_guide/indexing.html#returning-a-view-versus-a-copy\n",
      "  df_filtered['species_label'] = df_filtered['species'].astype('category').cat.codes\n"
     ]
    },
    {
     "data": {
      "text/plain": [
       "(Index(['F49', 'F59.5', 'F76', 'F48.5', 'F65.5', 'F47', 'F80', 'F60', 'F47.5',\n",
       "        'F66', 'F60.5', 'F48', 'F59', 'F80.5', 'F49.5', 'F76.5', 'F81', 'F79.5',\n",
       "        'F46.5', 'F46', 'F78', 'F79', 'F70', 'F45.5', 'F56.5', 'F81.5', 'F69',\n",
       "        'F77', 'F69.5', 'F50.5'],\n",
       "       dtype='object'),\n",
       " array([0.30778148, 0.04256834, 0.02358369, 0.02129603, 0.01929679,\n",
       "        0.01718872, 0.01644715, 0.0151755 , 0.01453064, 0.01416199]))"
      ]
     },
     "execution_count": 16,
     "metadata": {},
     "output_type": "execute_result"
    }
   ],
   "source": [
    "# Encode species as numerical labels\n",
    "df_filtered['species_label'] = df_filtered['species'].astype('category').cat.codes\n",
    "\n",
    "# Further feature selection using Random Forest\n",
    "X = df_filtered[list(selected_features)]\n",
    "y = df_filtered['species_label']\n",
    "\n",
    "# Standardize the features\n",
    "scaler = StandardScaler()\n",
    "X_scaled = scaler.fit_transform(X)\n",
    "\n",
    "# Train a Random Forest classifier to get feature importance\n",
    "rf = RandomForestClassifier(n_estimators=100, random_state=42)\n",
    "rf.fit(X_scaled, y)\n",
    "\n",
    "# Get top 30 most important features\n",
    "feature_importances = pd.Series(rf.feature_importances_, index=selected_features)\n",
    "top_features_rf = feature_importances.nlargest(30).index\n",
    "X_rf_selected = df_filtered[top_features_rf]\n",
    "\n",
    "# Further reduction using PCA\n",
    "pca = PCA(n_components=10)  # Reduce to 10 principal components\n",
    "X_pca = pca.fit_transform(X_scaled)\n",
    "\n",
    "# Show selected features and variance explained by PCA\n",
    "top_features_rf, pca.explained_variance_ratio_"
   ]
  },
  {
   "cell_type": "markdown",
   "metadata": {},
   "source": [
    "## Leave-One-Fish-Out (LOFO) Cross-Validation\n",
    "### Model Training"
   ]
  },
  {
   "cell_type": "markdown",
   "metadata": {},
   "source": [
    "### Logistic Regreesion"
   ]
  },
  {
   "cell_type": "code",
   "execution_count": 17,
   "metadata": {},
   "outputs": [
    {
     "name": "stdout",
     "output_type": "stream",
     "text": [
      "                       Mean Accuracy\n",
      "RandomForest_Selected       0.657316\n",
      "PCA_Transformed             0.621657\n"
     ]
    }
   ],
   "source": [
    "# LOFO Setup\n",
    "groups = df_filtered['fishNum']\n",
    "logo = LeaveOneGroupOut()\n",
    "\n",
    "# Models\n",
    "models = {\n",
    "    \"RandomForest_Selected\": LogisticRegression(class_weight=\"balanced\", max_iter=500, random_state=42),\n",
    "    \"PCA_Transformed\": LogisticRegression(class_weight=\"balanced\", max_iter=500, random_state=42)\n",
    "}\n",
    "\n",
    "# Store results\n",
    "results = {model: {\"accuracy\": [], \"roc_auc\": []} for model in models}\n",
    "\n",
    "# LOFO Training and Evaluation\n",
    "for train_idx, test_idx in logo.split(df_filtered, df_filtered['species_label'], groups):\n",
    "    # Split data\n",
    "    X_train_rf, X_test_rf = X_rf_selected.iloc[train_idx], X_rf_selected.iloc[test_idx]\n",
    "    X_train_pca, X_test_pca = X_pca[train_idx], X_pca[test_idx]\n",
    "    y_train, y_test = df_filtered.loc[train_idx, 'species_label'], df_filtered.loc[test_idx, 'species_label']\n",
    "\n",
    "    # Standardize RF features\n",
    "    scaler_rf = StandardScaler()\n",
    "    X_train_rf_scaled = scaler_rf.fit_transform(X_train_rf)\n",
    "    X_test_rf_scaled = scaler_rf.transform(X_test_rf)\n",
    "\n",
    "    # Train & evaluate models\n",
    "    for model_name, model in models.items():\n",
    "        if model_name == \"RandomForest_Selected\":\n",
    "            X_train, X_test = X_train_rf_scaled, X_test_rf_scaled\n",
    "        else:\n",
    "            X_train, X_test = X_train_pca, X_test_pca\n",
    "\n",
    "        model.fit(X_train, y_train)\n",
    "        y_pred = model.predict(X_test)\n",
    "\n",
    "        # Store accuracy\n",
    "        results[model_name][\"accuracy\"].append(accuracy_score(y_test, y_pred))\n",
    "\n",
    "\n",
    "# Aggregate results\n",
    "summary_results = {\n",
    "    model: {\n",
    "        \"Mean Accuracy\": np.mean(results[model][\"accuracy\"]),\n",
    "    } for model in results\n",
    "}\n",
    "\n",
    "# Convert to DataFrame\n",
    "summary_df = pd.DataFrame(summary_results).T\n",
    "\n",
    "# Display Results\n",
    "print(summary_df)"
   ]
  },
  {
   "cell_type": "markdown",
   "metadata": {},
   "source": [
    "### XGB Model"
   ]
  },
  {
   "cell_type": "code",
   "execution_count": 18,
   "metadata": {},
   "outputs": [
    {
     "name": "stdout",
     "output_type": "stream",
     "text": [
      "   Mean Accuracy\n",
      "0       0.554333\n"
     ]
    }
   ],
   "source": [
    "# Initialize XGBoost model\n",
    "xgb_model = xgb.XGBClassifier(objective=\"binary:logistic\", eval_metric=\"logloss\", random_state=42)\n",
    "\n",
    "# Store results for XGBoost\n",
    "results_xgb = {\"accuracy\": []}\n",
    "\n",
    "# LOFO Training and Evaluation for XGBoost\n",
    "for train_idx, test_idx in logo.split(df_filtered, df_filtered['species_label'], groups):\n",
    "    # Split data\n",
    "    X_train, X_test = X_rf_selected.iloc[train_idx], X_rf_selected.iloc[test_idx]\n",
    "    y_train, y_test = df_filtered.loc[train_idx, 'species_label'], df_filtered.loc[test_idx, 'species_label']\n",
    "\n",
    "    # Standardize features\n",
    "    scaler_rf = StandardScaler()\n",
    "    X_train_scaled = scaler_rf.fit_transform(X_train)\n",
    "    X_test_scaled = scaler_rf.transform(X_test)\n",
    "\n",
    "    # Train XGBoost model\n",
    "    xgb_model.fit(X_train_scaled, y_train)\n",
    "\n",
    "    # Predict and evaluate\n",
    "    y_pred = xgb_model.predict(X_test_scaled)\n",
    "\n",
    "    # Store accuracy\n",
    "    results_xgb[\"accuracy\"].append(accuracy_score(y_test, y_pred))\n",
    "\n",
    "# Aggregate results\n",
    "summary_xgb = {\n",
    "    \"Mean Accuracy\": np.mean(results_xgb[\"accuracy\"]),\n",
    "}\n",
    "\n",
    "# Convert to DataFrame and display results\n",
    "summary_df_xgb = pd.DataFrame([summary_xgb])\n",
    "print(summary_df_xgb)\n"
   ]
  },
  {
   "cell_type": "markdown",
   "metadata": {},
   "source": [
    "### Hyperparameter tuning for XGBoost"
   ]
  },
  {
   "cell_type": "code",
   "execution_count": 19,
   "metadata": {},
   "outputs": [
    {
     "name": "stdout",
     "output_type": "stream",
     "text": [
      "Fitting 5 folds for each of 20 candidates, totalling 100 fits\n",
      "   Best Accuracy                                    Best Parameters\n",
      "0       0.716187  {'subsample': 0.6, 'n_estimators': 500, 'max_d...\n"
     ]
    }
   ],
   "source": [
    "# Define reduced hyperparameter grid for XGBoost\n",
    "param_dist = {\n",
    "    \"n_estimators\": [100, 300, 500],  # Number of trees\n",
    "    \"max_depth\": [3, 6, 10],  # Depth of each tree\n",
    "    \"learning_rate\": [0.01, 0.1, 0.3],  # Step size shrinkage\n",
    "    \"subsample\": [0.6, 0.8, 1.0],  # Fraction of data used per tree\n",
    "    \"colsample_bytree\": [0.6, 0.8, 1.0],  # Fraction of features used per tree\n",
    "}\n",
    "\n",
    "# Initialize XGBoost model (without deprecated parameter)\n",
    "xgb_model = xgb.XGBClassifier(objective=\"binary:logistic\", eval_metric=\"logloss\", random_state=42)\n",
    "\n",
    "# Perform Randomized Search with 5-fold cross-validation\n",
    "random_search = RandomizedSearchCV(\n",
    "    xgb_model, param_distributions=param_dist, n_iter=20, cv=5, scoring=\"accuracy\", n_jobs=-1, verbose=1, random_state=42\n",
    ")\n",
    "random_search.fit(X_rf_selected, df_filtered['species_label'])\n",
    "\n",
    "# Get best parameters and best accuracy\n",
    "best_params = random_search.best_params_\n",
    "best_accuracy = random_search.best_score_\n",
    "\n",
    "# Display results\n",
    "summary_xgb_tuning = {\n",
    "    \"Best Accuracy\": best_accuracy,\n",
    "    \"Best Parameters\": best_params\n",
    "}\n",
    "\n",
    "summary_df_xgb_tuning = pd.DataFrame([summary_xgb_tuning])\n",
    "print(summary_df_xgb_tuning)"
   ]
  },
  {
   "cell_type": "markdown",
   "metadata": {},
   "source": [
    "### Use SMOTE to balance data"
   ]
  },
  {
   "cell_type": "code",
   "execution_count": 20,
   "metadata": {},
   "outputs": [
    {
     "name": "stderr",
     "output_type": "stream",
     "text": [
      "/var/folders/46/_qfvxk655mzdxw5h9v4z7ybw0000gn/T/ipykernel_27685/1967233190.py:16: DeprecationWarning: DataFrameGroupBy.apply operated on the grouping columns. This behavior is deprecated, and in a future version of pandas the grouping columns will be excluded from the operation. Either pass `include_groups=False` to exclude the groupings or explicitly select the grouping columns after groupby to silence this warning.\n",
      "  df_features = grouped.apply(extract_features).reset_index()\n"
     ]
    },
    {
     "name": "stdout",
     "output_type": "stream",
     "text": [
      "   Mean Accuracy After SMOTE (LOFO)\n",
      "0                            0.5625\n"
     ]
    }
   ],
   "source": [
    "# Extract higher-level features for each fish\n",
    "grouped = df_filtered.groupby(\"fishNum\")\n",
    "\n",
    "# Define functions for feature extraction\n",
    "def extract_features(group):\n",
    "    features = {}\n",
    "    for col in top_features_rf:\n",
    "        values = group[col].values\n",
    "        features[f\"{col}_mean\"] = np.mean(values)\n",
    "        features[f\"{col}_std\"] = np.std(values)\n",
    "        features[f\"{col}_skew\"] = stats.skew(values)\n",
    "        features[f\"{col}_kurtosis\"] = stats.kurtosis(values)\n",
    "    return pd.Series(features)\n",
    "\n",
    "# Apply feature extraction\n",
    "df_features = grouped.apply(extract_features).reset_index()\n",
    "\n",
    "# Merge species label back\n",
    "df_features = df_features.merge(df_filtered[['fishNum', 'species_label']].drop_duplicates(), on=\"fishNum\")\n",
    "\n",
    "# Prepare feature matrix and labels\n",
    "X_new = df_features.drop(columns=[\"fishNum\", \"species_label\"])\n",
    "y_new = df_features[\"species_label\"]\n",
    "groups = df_features[\"fishNum\"]\n",
    "\n",
    "# Standardize new features\n",
    "scaler_new = StandardScaler()\n",
    "X_new_scaled = scaler_new.fit_transform(X_new)\n",
    "\n",
    "# Initialize LOFO cross-validation\n",
    "logo = LeaveOneGroupOut()\n",
    "\n",
    "# Store results for XGBoost with SMOTE\n",
    "results_xgb_smote = {\"accuracy\": []}\n",
    "\n",
    "# LOFO Training and Evaluation with SMOTE\n",
    "for train_idx, test_idx in logo.split(X_new_scaled, y_new, groups):\n",
    "    # Split data\n",
    "    X_train, X_test = X_new_scaled[train_idx], X_new_scaled[test_idx]\n",
    "    y_train, y_test = y_new.iloc[train_idx], y_new.iloc[test_idx]\n",
    "\n",
    "    # Apply SMOTE to balance the training set\n",
    "    smote = SMOTE(random_state=42)\n",
    "    X_train_resampled, y_train_resampled = smote.fit_resample(X_train, y_train)\n",
    "\n",
    "    # Train XGBoost model\n",
    "    xgb_model_smote = xgb.XGBClassifier(objective=\"binary:logistic\", eval_metric=\"logloss\", random_state=42)\n",
    "    xgb_model_smote.fit(X_train_resampled, y_train_resampled)\n",
    "\n",
    "    # Predict and evaluate\n",
    "    y_pred = xgb_model_smote.predict(X_test)\n",
    "    results_xgb_smote[\"accuracy\"].append(accuracy_score(y_test, y_pred))\n",
    "\n",
    "# Aggregate results\n",
    "summary_smote_lofo = {\n",
    "    \"Mean Accuracy After SMOTE (LOFO)\": np.mean(results_xgb_smote[\"accuracy\"])\n",
    "}\n",
    "\n",
    "# Convert to DataFrame and display results\n",
    "summary_df_smote_lofo = pd.DataFrame([summary_smote_lofo])\n",
    "print(summary_df_smote_lofo)"
   ]
  },
  {
   "cell_type": "code",
   "execution_count": 21,
   "metadata": {},
   "outputs": [
    {
     "name": "stdout",
     "output_type": "stream",
     "text": [
      "   Mean Accuracy After SMOTE (LOFO) - RF\n",
      "0                                 0.6875\n"
     ]
    }
   ],
   "source": [
    "# Store results for Random Forest with SMOTE\n",
    "results_rf_smote = {\"accuracy\": []}\n",
    "\n",
    "# LOFO Training and Evaluation with SMOTE for Random Forest\n",
    "for train_idx, test_idx in logo.split(X_new_scaled, y_new, groups):\n",
    "    # Split data\n",
    "    X_train, X_test = X_new_scaled[train_idx], X_new_scaled[test_idx]\n",
    "    y_train, y_test = y_new.iloc[train_idx], y_new.iloc[test_idx]\n",
    "\n",
    "    # Apply SMOTE to balance the training set\n",
    "    smote = SMOTE(random_state=42)\n",
    "    X_train_resampled, y_train_resampled = smote.fit_resample(X_train, y_train)\n",
    "\n",
    "    # Train Random Forest model\n",
    "    rf_model_smote = RandomForestClassifier(n_estimators=500, random_state=42)\n",
    "    rf_model_smote.fit(X_train_resampled, y_train_resampled)\n",
    "\n",
    "    # Predict and evaluate\n",
    "    y_pred = rf_model_smote.predict(X_test)\n",
    "    results_rf_smote[\"accuracy\"].append(accuracy_score(y_test, y_pred))\n",
    "\n",
    "# Aggregate results\n",
    "summary_smote_rf_lofo = {\n",
    "    \"Mean Accuracy After SMOTE (LOFO) - RF\": np.mean(results_rf_smote[\"accuracy\"])\n",
    "}\n",
    "\n",
    "# Convert to DataFrame and display results\n",
    "summary_df_smote_rf_lofo = pd.DataFrame([summary_smote_rf_lofo])\n",
    "print(summary_df_smote_rf_lofo)"
   ]
  },
  {
   "cell_type": "markdown",
   "metadata": {},
   "source": [
    "## ML models performed not well, they did not incorporate time series nature in this dataset. We need to consider using models designed for time-series.\n",
    "Besides, leave one fish out makes the test set to have only one species. It's better to leave a pair of fish out instead."
   ]
  },
  {
   "cell_type": "markdown",
   "metadata": {},
   "source": [
    "### LSTM"
   ]
  },
  {
   "cell_type": "code",
   "execution_count": 22,
   "metadata": {},
   "outputs": [
    {
     "data": {
      "text/plain": [
       "(1379, 16, (320, 426))"
      ]
     },
     "execution_count": 22,
     "metadata": {},
     "output_type": "execute_result"
    }
   ],
   "source": [
    "# Reshape the dataset for LSTM\n",
    "\n",
    "# Sort by fish and time to maintain sequence order\n",
    "df_lstm = df_filtered.sort_values(by=[\"fishNum\", \"Ping_time\"])\n",
    "\n",
    "# Select frequency feature columns\n",
    "frequency_cols = df_lstm.columns[4:-1]\n",
    "\n",
    "# Normalize the frequency features\n",
    "scaler = StandardScaler()\n",
    "df_lstm[frequency_cols] = scaler.fit_transform(df_lstm[frequency_cols])\n",
    "\n",
    "# Group by fish to create sequences\n",
    "grouped = df_lstm.groupby(\"fishNum\")\n",
    "\n",
    "# Convert each fish's time series into a numpy array\n",
    "fish_sequences = []\n",
    "fish_labels = []\n",
    "fish_nums = []\n",
    "\n",
    "for fish_id, group in grouped:\n",
    "    fish_sequences.append(group[frequency_cols].values)  # Time-series features\n",
    "    fish_labels.append(group[\"species\"].iloc[0])   # Label for the fish\n",
    "    fish_nums.append(fish_id)  # Track which fish\n",
    "\n",
    "# Convert to numpy arrays (keeping sequences as objects for now)\n",
    "fish_sequences = np.array(fish_sequences, dtype=object)  # Different lengths\n",
    "fish_labels = np.array(fish_labels)\n",
    "\n",
    "# Find max sequence length for padding\n",
    "max_timesteps = max([seq.shape[0] for seq in fish_sequences])\n",
    "\n",
    "# Display key info\n",
    "max_timesteps, len(fish_sequences), fish_sequences[0].shape\n"
   ]
  },
  {
   "cell_type": "code",
   "execution_count": 23,
   "metadata": {},
   "outputs": [
    {
     "data": {
      "text/plain": [
       "((16, 1379, 426), (16,))"
      ]
     },
     "execution_count": 23,
     "metadata": {},
     "output_type": "execute_result"
    }
   ],
   "source": [
    "# Pad sequences to make all fish have the same length\n",
    "fish_sequences_padded = pad_sequences(fish_sequences, maxlen=max_timesteps, dtype=\"float32\", padding=\"post\", truncating=\"post\")\n",
    "\n",
    "# Convert species labels to numerical encoding (binary classification)\n",
    "species_mapping = {species: idx for idx, species in enumerate(np.unique(fish_labels))}\n",
    "fish_labels_encoded = np.array([species_mapping[label] for label in fish_labels])\n",
    "\n",
    "# Display the shape of the final LSTM input data\n",
    "fish_sequences_padded.shape, fish_labels_encoded.shape"
   ]
  },
  {
   "cell_type": "code",
   "execution_count": 25,
   "metadata": {},
   "outputs": [
    {
     "data": {
      "text/plain": [
       "(63,\n",
       " [('LT009', 'SMB001'),\n",
       "  ('LT009', 'SMB002'),\n",
       "  ('LT009', 'SMB005'),\n",
       "  ('LT009', 'SMB006'),\n",
       "  ('LT009', 'SMB007')])"
      ]
     },
     "execution_count": 25,
     "metadata": {},
     "output_type": "execute_result"
    }
   ],
   "source": [
    "# Create lists of fish numbers for each species\n",
    "lt_fish = [fish for fish, label in zip(fish_nums, fish_labels_encoded) if label == 0]  # LT species\n",
    "smb_fish = [fish for fish, label in zip(fish_nums, fish_labels_encoded) if label == 1]  # SMB species\n",
    "\n",
    "# Generate all possible (LT, SMB) pairs for LOPO\n",
    "lopo_pairs = list(product(lt_fish, smb_fish))\n",
    "\n",
    "# Display the number of LOPO folds created and the first few pairs\n",
    "len(lopo_pairs), lopo_pairs[:5]"
   ]
  },
  {
   "cell_type": "code",
   "execution_count": 27,
   "metadata": {},
   "outputs": [
    {
     "name": "stderr",
     "output_type": "stream",
     "text": [
      "/Users/scarlett/opt/miniconda3/envs/sta2453/lib/python3.10/site-packages/keras/src/layers/core/masking.py:47: UserWarning: Do not pass an `input_shape`/`input_dim` argument to a layer. When using Sequential models, prefer using an `Input(shape)` object as the first layer in the model instead.\n",
      "  super().__init__(**kwargs)\n"
     ]
    },
    {
     "data": {
      "text/html": [
       "<pre style=\"white-space:pre;overflow-x:auto;line-height:normal;font-family:Menlo,'DejaVu Sans Mono',consolas,'Courier New',monospace\"><span style=\"font-weight: bold\">Model: \"sequential\"</span>\n",
       "</pre>\n"
      ],
      "text/plain": [
       "\u001b[1mModel: \"sequential\"\u001b[0m\n"
      ]
     },
     "metadata": {},
     "output_type": "display_data"
    },
    {
     "data": {
      "text/html": [
       "<pre style=\"white-space:pre;overflow-x:auto;line-height:normal;font-family:Menlo,'DejaVu Sans Mono',consolas,'Courier New',monospace\">┏━━━━━━━━━━━━━━━━━━━━━━━━━━━━━━━━━┳━━━━━━━━━━━━━━━━━━━━━━━━┳━━━━━━━━━━━━━━━┓\n",
       "┃<span style=\"font-weight: bold\"> Layer (type)                    </span>┃<span style=\"font-weight: bold\"> Output Shape           </span>┃<span style=\"font-weight: bold\">       Param # </span>┃\n",
       "┡━━━━━━━━━━━━━━━━━━━━━━━━━━━━━━━━━╇━━━━━━━━━━━━━━━━━━━━━━━━╇━━━━━━━━━━━━━━━┩\n",
       "│ masking (<span style=\"color: #0087ff; text-decoration-color: #0087ff\">Masking</span>)               │ (<span style=\"color: #00d7ff; text-decoration-color: #00d7ff\">None</span>, <span style=\"color: #00af00; text-decoration-color: #00af00\">1379</span>, <span style=\"color: #00af00; text-decoration-color: #00af00\">426</span>)      │             <span style=\"color: #00af00; text-decoration-color: #00af00\">0</span> │\n",
       "├─────────────────────────────────┼────────────────────────┼───────────────┤\n",
       "│ lstm (<span style=\"color: #0087ff; text-decoration-color: #0087ff\">LSTM</span>)                     │ (<span style=\"color: #00d7ff; text-decoration-color: #00d7ff\">None</span>, <span style=\"color: #00af00; text-decoration-color: #00af00\">1379</span>, <span style=\"color: #00af00; text-decoration-color: #00af00\">64</span>)       │       <span style=\"color: #00af00; text-decoration-color: #00af00\">125,696</span> │\n",
       "├─────────────────────────────────┼────────────────────────┼───────────────┤\n",
       "│ lstm_1 (<span style=\"color: #0087ff; text-decoration-color: #0087ff\">LSTM</span>)                   │ (<span style=\"color: #00d7ff; text-decoration-color: #00d7ff\">None</span>, <span style=\"color: #00af00; text-decoration-color: #00af00\">32</span>)             │        <span style=\"color: #00af00; text-decoration-color: #00af00\">12,416</span> │\n",
       "├─────────────────────────────────┼────────────────────────┼───────────────┤\n",
       "│ dense (<span style=\"color: #0087ff; text-decoration-color: #0087ff\">Dense</span>)                   │ (<span style=\"color: #00d7ff; text-decoration-color: #00d7ff\">None</span>, <span style=\"color: #00af00; text-decoration-color: #00af00\">16</span>)             │           <span style=\"color: #00af00; text-decoration-color: #00af00\">528</span> │\n",
       "├─────────────────────────────────┼────────────────────────┼───────────────┤\n",
       "│ dense_1 (<span style=\"color: #0087ff; text-decoration-color: #0087ff\">Dense</span>)                 │ (<span style=\"color: #00d7ff; text-decoration-color: #00d7ff\">None</span>, <span style=\"color: #00af00; text-decoration-color: #00af00\">1</span>)              │            <span style=\"color: #00af00; text-decoration-color: #00af00\">17</span> │\n",
       "└─────────────────────────────────┴────────────────────────┴───────────────┘\n",
       "</pre>\n"
      ],
      "text/plain": [
       "┏━━━━━━━━━━━━━━━━━━━━━━━━━━━━━━━━━┳━━━━━━━━━━━━━━━━━━━━━━━━┳━━━━━━━━━━━━━━━┓\n",
       "┃\u001b[1m \u001b[0m\u001b[1mLayer (type)                   \u001b[0m\u001b[1m \u001b[0m┃\u001b[1m \u001b[0m\u001b[1mOutput Shape          \u001b[0m\u001b[1m \u001b[0m┃\u001b[1m \u001b[0m\u001b[1m      Param #\u001b[0m\u001b[1m \u001b[0m┃\n",
       "┡━━━━━━━━━━━━━━━━━━━━━━━━━━━━━━━━━╇━━━━━━━━━━━━━━━━━━━━━━━━╇━━━━━━━━━━━━━━━┩\n",
       "│ masking (\u001b[38;5;33mMasking\u001b[0m)               │ (\u001b[38;5;45mNone\u001b[0m, \u001b[38;5;34m1379\u001b[0m, \u001b[38;5;34m426\u001b[0m)      │             \u001b[38;5;34m0\u001b[0m │\n",
       "├─────────────────────────────────┼────────────────────────┼───────────────┤\n",
       "│ lstm (\u001b[38;5;33mLSTM\u001b[0m)                     │ (\u001b[38;5;45mNone\u001b[0m, \u001b[38;5;34m1379\u001b[0m, \u001b[38;5;34m64\u001b[0m)       │       \u001b[38;5;34m125,696\u001b[0m │\n",
       "├─────────────────────────────────┼────────────────────────┼───────────────┤\n",
       "│ lstm_1 (\u001b[38;5;33mLSTM\u001b[0m)                   │ (\u001b[38;5;45mNone\u001b[0m, \u001b[38;5;34m32\u001b[0m)             │        \u001b[38;5;34m12,416\u001b[0m │\n",
       "├─────────────────────────────────┼────────────────────────┼───────────────┤\n",
       "│ dense (\u001b[38;5;33mDense\u001b[0m)                   │ (\u001b[38;5;45mNone\u001b[0m, \u001b[38;5;34m16\u001b[0m)             │           \u001b[38;5;34m528\u001b[0m │\n",
       "├─────────────────────────────────┼────────────────────────┼───────────────┤\n",
       "│ dense_1 (\u001b[38;5;33mDense\u001b[0m)                 │ (\u001b[38;5;45mNone\u001b[0m, \u001b[38;5;34m1\u001b[0m)              │            \u001b[38;5;34m17\u001b[0m │\n",
       "└─────────────────────────────────┴────────────────────────┴───────────────┘\n"
      ]
     },
     "metadata": {},
     "output_type": "display_data"
    },
    {
     "data": {
      "text/html": [
       "<pre style=\"white-space:pre;overflow-x:auto;line-height:normal;font-family:Menlo,'DejaVu Sans Mono',consolas,'Courier New',monospace\"><span style=\"font-weight: bold\"> Total params: </span><span style=\"color: #00af00; text-decoration-color: #00af00\">138,657</span> (541.63 KB)\n",
       "</pre>\n"
      ],
      "text/plain": [
       "\u001b[1m Total params: \u001b[0m\u001b[38;5;34m138,657\u001b[0m (541.63 KB)\n"
      ]
     },
     "metadata": {},
     "output_type": "display_data"
    },
    {
     "data": {
      "text/html": [
       "<pre style=\"white-space:pre;overflow-x:auto;line-height:normal;font-family:Menlo,'DejaVu Sans Mono',consolas,'Courier New',monospace\"><span style=\"font-weight: bold\"> Trainable params: </span><span style=\"color: #00af00; text-decoration-color: #00af00\">138,657</span> (541.63 KB)\n",
       "</pre>\n"
      ],
      "text/plain": [
       "\u001b[1m Trainable params: \u001b[0m\u001b[38;5;34m138,657\u001b[0m (541.63 KB)\n"
      ]
     },
     "metadata": {},
     "output_type": "display_data"
    },
    {
     "data": {
      "text/html": [
       "<pre style=\"white-space:pre;overflow-x:auto;line-height:normal;font-family:Menlo,'DejaVu Sans Mono',consolas,'Courier New',monospace\"><span style=\"font-weight: bold\"> Non-trainable params: </span><span style=\"color: #00af00; text-decoration-color: #00af00\">0</span> (0.00 B)\n",
       "</pre>\n"
      ],
      "text/plain": [
       "\u001b[1m Non-trainable params: \u001b[0m\u001b[38;5;34m0\u001b[0m (0.00 B)\n"
      ]
     },
     "metadata": {},
     "output_type": "display_data"
    }
   ],
   "source": [
    "# Define LSTM model structure\n",
    "def build_lstm_model(input_shape):\n",
    "    model = Sequential([\n",
    "        Masking(mask_value=0.0, input_shape=input_shape),  # Mask padding values\n",
    "        LSTM(64, return_sequences=True),  # LSTM layer with 64 units\n",
    "        LSTM(32),  # Another LSTM layer\n",
    "        Dense(16, activation=\"relu\"),  # Fully connected layer\n",
    "        Dense(1, activation=\"sigmoid\")  # Output layer (binary classification)\n",
    "    ])\n",
    "    model.compile(optimizer=\"adam\", loss=\"binary_crossentropy\", metrics=[\"accuracy\"])\n",
    "    return model\n",
    "\n",
    "# Define input shape for the model (timesteps, features)\n",
    "input_shape = (max_timesteps, fish_sequences_padded.shape[2])\n",
    "\n",
    "# Build the LSTM model\n",
    "lstm_model = build_lstm_model(input_shape)\n",
    "\n",
    "# Display model summary\n",
    "lstm_model.summary()\n"
   ]
  },
  {
   "cell_type": "code",
   "execution_count": 28,
   "metadata": {},
   "outputs": [
    {
     "name": "stderr",
     "output_type": "stream",
     "text": [
      "/Users/scarlett/opt/miniconda3/envs/sta2453/lib/python3.10/site-packages/keras/src/layers/core/masking.py:47: UserWarning: Do not pass an `input_shape`/`input_dim` argument to a layer. When using Sequential models, prefer using an `Input(shape)` object as the first layer in the model instead.\n",
      "  super().__init__(**kwargs)\n"
     ]
    },
    {
     "name": "stdout",
     "output_type": "stream",
     "text": [
      "\u001b[1m1/1\u001b[0m \u001b[32m━━━━━━━━━━━━━━━━━━━━\u001b[0m\u001b[37m\u001b[0m \u001b[1m1s\u001b[0m 610ms/step\n"
     ]
    },
    {
     "name": "stderr",
     "output_type": "stream",
     "text": [
      "/Users/scarlett/opt/miniconda3/envs/sta2453/lib/python3.10/site-packages/keras/src/layers/core/masking.py:47: UserWarning: Do not pass an `input_shape`/`input_dim` argument to a layer. When using Sequential models, prefer using an `Input(shape)` object as the first layer in the model instead.\n",
      "  super().__init__(**kwargs)\n"
     ]
    },
    {
     "name": "stdout",
     "output_type": "stream",
     "text": [
      "\u001b[1m1/1\u001b[0m \u001b[32m━━━━━━━━━━━━━━━━━━━━\u001b[0m\u001b[37m\u001b[0m \u001b[1m1s\u001b[0m 613ms/step\n"
     ]
    },
    {
     "name": "stderr",
     "output_type": "stream",
     "text": [
      "/Users/scarlett/opt/miniconda3/envs/sta2453/lib/python3.10/site-packages/keras/src/layers/core/masking.py:47: UserWarning: Do not pass an `input_shape`/`input_dim` argument to a layer. When using Sequential models, prefer using an `Input(shape)` object as the first layer in the model instead.\n",
      "  super().__init__(**kwargs)\n"
     ]
    },
    {
     "name": "stdout",
     "output_type": "stream",
     "text": [
      "\u001b[1m1/1\u001b[0m \u001b[32m━━━━━━━━━━━━━━━━━━━━\u001b[0m\u001b[37m\u001b[0m \u001b[1m1s\u001b[0m 878ms/step\n"
     ]
    },
    {
     "name": "stderr",
     "output_type": "stream",
     "text": [
      "/Users/scarlett/opt/miniconda3/envs/sta2453/lib/python3.10/site-packages/keras/src/layers/core/masking.py:47: UserWarning: Do not pass an `input_shape`/`input_dim` argument to a layer. When using Sequential models, prefer using an `Input(shape)` object as the first layer in the model instead.\n",
      "  super().__init__(**kwargs)\n"
     ]
    },
    {
     "name": "stdout",
     "output_type": "stream",
     "text": [
      "\u001b[1m1/1\u001b[0m \u001b[32m━━━━━━━━━━━━━━━━━━━━\u001b[0m\u001b[37m\u001b[0m \u001b[1m1s\u001b[0m 953ms/step\n"
     ]
    },
    {
     "name": "stderr",
     "output_type": "stream",
     "text": [
      "/Users/scarlett/opt/miniconda3/envs/sta2453/lib/python3.10/site-packages/keras/src/layers/core/masking.py:47: UserWarning: Do not pass an `input_shape`/`input_dim` argument to a layer. When using Sequential models, prefer using an `Input(shape)` object as the first layer in the model instead.\n",
      "  super().__init__(**kwargs)\n"
     ]
    },
    {
     "name": "stdout",
     "output_type": "stream",
     "text": [
      "WARNING:tensorflow:5 out of the last 5 calls to <function TensorFlowTrainer.make_predict_function.<locals>.one_step_on_data_distributed at 0x1529be830> triggered tf.function retracing. Tracing is expensive and the excessive number of tracings could be due to (1) creating @tf.function repeatedly in a loop, (2) passing tensors with different shapes, (3) passing Python objects instead of tensors. For (1), please define your @tf.function outside of the loop. For (2), @tf.function has reduce_retracing=True option that can avoid unnecessary retracing. For (3), please refer to https://www.tensorflow.org/guide/function#controlling_retracing and https://www.tensorflow.org/api_docs/python/tf/function for  more details.\n",
      "\u001b[1m1/1\u001b[0m \u001b[32m━━━━━━━━━━━━━━━━━━━━\u001b[0m\u001b[37m\u001b[0m \u001b[1m1s\u001b[0m 826ms/step\n"
     ]
    },
    {
     "name": "stderr",
     "output_type": "stream",
     "text": [
      "/Users/scarlett/opt/miniconda3/envs/sta2453/lib/python3.10/site-packages/keras/src/layers/core/masking.py:47: UserWarning: Do not pass an `input_shape`/`input_dim` argument to a layer. When using Sequential models, prefer using an `Input(shape)` object as the first layer in the model instead.\n",
      "  super().__init__(**kwargs)\n"
     ]
    },
    {
     "name": "stdout",
     "output_type": "stream",
     "text": [
      "WARNING:tensorflow:6 out of the last 6 calls to <function TensorFlowTrainer.make_predict_function.<locals>.one_step_on_data_distributed at 0x1524cf0a0> triggered tf.function retracing. Tracing is expensive and the excessive number of tracings could be due to (1) creating @tf.function repeatedly in a loop, (2) passing tensors with different shapes, (3) passing Python objects instead of tensors. For (1), please define your @tf.function outside of the loop. For (2), @tf.function has reduce_retracing=True option that can avoid unnecessary retracing. For (3), please refer to https://www.tensorflow.org/guide/function#controlling_retracing and https://www.tensorflow.org/api_docs/python/tf/function for  more details.\n",
      "\u001b[1m1/1\u001b[0m \u001b[32m━━━━━━━━━━━━━━━━━━━━\u001b[0m\u001b[37m\u001b[0m \u001b[1m1s\u001b[0m 653ms/step\n"
     ]
    },
    {
     "name": "stderr",
     "output_type": "stream",
     "text": [
      "/Users/scarlett/opt/miniconda3/envs/sta2453/lib/python3.10/site-packages/keras/src/layers/core/masking.py:47: UserWarning: Do not pass an `input_shape`/`input_dim` argument to a layer. When using Sequential models, prefer using an `Input(shape)` object as the first layer in the model instead.\n",
      "  super().__init__(**kwargs)\n"
     ]
    },
    {
     "ename": "KeyboardInterrupt",
     "evalue": "",
     "output_type": "error",
     "traceback": [
      "\u001b[0;31m---------------------------------------------------------------------------\u001b[0m",
      "\u001b[0;31mKeyboardInterrupt\u001b[0m                         Traceback (most recent call last)",
      "Cell \u001b[0;32mIn[28], line 16\u001b[0m\n\u001b[1;32m     14\u001b[0m \u001b[38;5;66;03m# Train LSTM model\u001b[39;00m\n\u001b[1;32m     15\u001b[0m lstm_model \u001b[38;5;241m=\u001b[39m build_lstm_model(input_shape)\n\u001b[0;32m---> 16\u001b[0m \u001b[43mlstm_model\u001b[49m\u001b[38;5;241;43m.\u001b[39;49m\u001b[43mfit\u001b[49m\u001b[43m(\u001b[49m\u001b[43mX_train\u001b[49m\u001b[43m,\u001b[49m\u001b[43m \u001b[49m\u001b[43my_train\u001b[49m\u001b[43m,\u001b[49m\u001b[43m \u001b[49m\u001b[43mepochs\u001b[49m\u001b[38;5;241;43m=\u001b[39;49m\u001b[38;5;241;43m10\u001b[39;49m\u001b[43m,\u001b[49m\u001b[43m \u001b[49m\u001b[43mbatch_size\u001b[49m\u001b[38;5;241;43m=\u001b[39;49m\u001b[38;5;241;43m2\u001b[39;49m\u001b[43m,\u001b[49m\u001b[43m \u001b[49m\u001b[43mverbose\u001b[49m\u001b[38;5;241;43m=\u001b[39;49m\u001b[38;5;241;43m0\u001b[39;49m\u001b[43m)\u001b[49m\n\u001b[1;32m     18\u001b[0m \u001b[38;5;66;03m# Predict and evaluate\u001b[39;00m\n\u001b[1;32m     19\u001b[0m y_pred \u001b[38;5;241m=\u001b[39m (lstm_model\u001b[38;5;241m.\u001b[39mpredict(X_test) \u001b[38;5;241m>\u001b[39m \u001b[38;5;241m0.5\u001b[39m)\u001b[38;5;241m.\u001b[39mastype(\u001b[38;5;124m\"\u001b[39m\u001b[38;5;124mint32\u001b[39m\u001b[38;5;124m\"\u001b[39m)\u001b[38;5;241m.\u001b[39mflatten()\n",
      "File \u001b[0;32m~/opt/miniconda3/envs/sta2453/lib/python3.10/site-packages/keras/src/utils/traceback_utils.py:117\u001b[0m, in \u001b[0;36mfilter_traceback.<locals>.error_handler\u001b[0;34m(*args, **kwargs)\u001b[0m\n\u001b[1;32m    115\u001b[0m filtered_tb \u001b[38;5;241m=\u001b[39m \u001b[38;5;28;01mNone\u001b[39;00m\n\u001b[1;32m    116\u001b[0m \u001b[38;5;28;01mtry\u001b[39;00m:\n\u001b[0;32m--> 117\u001b[0m     \u001b[38;5;28;01mreturn\u001b[39;00m \u001b[43mfn\u001b[49m\u001b[43m(\u001b[49m\u001b[38;5;241;43m*\u001b[39;49m\u001b[43margs\u001b[49m\u001b[43m,\u001b[49m\u001b[43m \u001b[49m\u001b[38;5;241;43m*\u001b[39;49m\u001b[38;5;241;43m*\u001b[39;49m\u001b[43mkwargs\u001b[49m\u001b[43m)\u001b[49m\n\u001b[1;32m    118\u001b[0m \u001b[38;5;28;01mexcept\u001b[39;00m \u001b[38;5;167;01mException\u001b[39;00m \u001b[38;5;28;01mas\u001b[39;00m e:\n\u001b[1;32m    119\u001b[0m     filtered_tb \u001b[38;5;241m=\u001b[39m _process_traceback_frames(e\u001b[38;5;241m.\u001b[39m__traceback__)\n",
      "File \u001b[0;32m~/opt/miniconda3/envs/sta2453/lib/python3.10/site-packages/keras/src/backend/tensorflow/trainer.py:320\u001b[0m, in \u001b[0;36mTensorFlowTrainer.fit\u001b[0;34m(self, x, y, batch_size, epochs, verbose, callbacks, validation_split, validation_data, shuffle, class_weight, sample_weight, initial_epoch, steps_per_epoch, validation_steps, validation_batch_size, validation_freq)\u001b[0m\n\u001b[1;32m    318\u001b[0m \u001b[38;5;28;01mfor\u001b[39;00m step, iterator \u001b[38;5;129;01min\u001b[39;00m epoch_iterator\u001b[38;5;241m.\u001b[39menumerate_epoch():\n\u001b[1;32m    319\u001b[0m     callbacks\u001b[38;5;241m.\u001b[39mon_train_batch_begin(step)\n\u001b[0;32m--> 320\u001b[0m     logs \u001b[38;5;241m=\u001b[39m \u001b[38;5;28;43mself\u001b[39;49m\u001b[38;5;241;43m.\u001b[39;49m\u001b[43mtrain_function\u001b[49m\u001b[43m(\u001b[49m\u001b[43miterator\u001b[49m\u001b[43m)\u001b[49m\n\u001b[1;32m    321\u001b[0m     callbacks\u001b[38;5;241m.\u001b[39mon_train_batch_end(step, logs)\n\u001b[1;32m    322\u001b[0m     \u001b[38;5;28;01mif\u001b[39;00m \u001b[38;5;28mself\u001b[39m\u001b[38;5;241m.\u001b[39mstop_training:\n",
      "File \u001b[0;32m~/opt/miniconda3/envs/sta2453/lib/python3.10/site-packages/tensorflow/python/util/traceback_utils.py:150\u001b[0m, in \u001b[0;36mfilter_traceback.<locals>.error_handler\u001b[0;34m(*args, **kwargs)\u001b[0m\n\u001b[1;32m    148\u001b[0m filtered_tb \u001b[38;5;241m=\u001b[39m \u001b[38;5;28;01mNone\u001b[39;00m\n\u001b[1;32m    149\u001b[0m \u001b[38;5;28;01mtry\u001b[39;00m:\n\u001b[0;32m--> 150\u001b[0m   \u001b[38;5;28;01mreturn\u001b[39;00m \u001b[43mfn\u001b[49m\u001b[43m(\u001b[49m\u001b[38;5;241;43m*\u001b[39;49m\u001b[43margs\u001b[49m\u001b[43m,\u001b[49m\u001b[43m \u001b[49m\u001b[38;5;241;43m*\u001b[39;49m\u001b[38;5;241;43m*\u001b[39;49m\u001b[43mkwargs\u001b[49m\u001b[43m)\u001b[49m\n\u001b[1;32m    151\u001b[0m \u001b[38;5;28;01mexcept\u001b[39;00m \u001b[38;5;167;01mException\u001b[39;00m \u001b[38;5;28;01mas\u001b[39;00m e:\n\u001b[1;32m    152\u001b[0m   filtered_tb \u001b[38;5;241m=\u001b[39m _process_traceback_frames(e\u001b[38;5;241m.\u001b[39m__traceback__)\n",
      "File \u001b[0;32m~/opt/miniconda3/envs/sta2453/lib/python3.10/site-packages/tensorflow/python/eager/polymorphic_function/polymorphic_function.py:833\u001b[0m, in \u001b[0;36mFunction.__call__\u001b[0;34m(self, *args, **kwds)\u001b[0m\n\u001b[1;32m    830\u001b[0m compiler \u001b[38;5;241m=\u001b[39m \u001b[38;5;124m\"\u001b[39m\u001b[38;5;124mxla\u001b[39m\u001b[38;5;124m\"\u001b[39m \u001b[38;5;28;01mif\u001b[39;00m \u001b[38;5;28mself\u001b[39m\u001b[38;5;241m.\u001b[39m_jit_compile \u001b[38;5;28;01melse\u001b[39;00m \u001b[38;5;124m\"\u001b[39m\u001b[38;5;124mnonXla\u001b[39m\u001b[38;5;124m\"\u001b[39m\n\u001b[1;32m    832\u001b[0m \u001b[38;5;28;01mwith\u001b[39;00m OptionalXlaContext(\u001b[38;5;28mself\u001b[39m\u001b[38;5;241m.\u001b[39m_jit_compile):\n\u001b[0;32m--> 833\u001b[0m   result \u001b[38;5;241m=\u001b[39m \u001b[38;5;28;43mself\u001b[39;49m\u001b[38;5;241;43m.\u001b[39;49m\u001b[43m_call\u001b[49m\u001b[43m(\u001b[49m\u001b[38;5;241;43m*\u001b[39;49m\u001b[43margs\u001b[49m\u001b[43m,\u001b[49m\u001b[43m \u001b[49m\u001b[38;5;241;43m*\u001b[39;49m\u001b[38;5;241;43m*\u001b[39;49m\u001b[43mkwds\u001b[49m\u001b[43m)\u001b[49m\n\u001b[1;32m    835\u001b[0m new_tracing_count \u001b[38;5;241m=\u001b[39m \u001b[38;5;28mself\u001b[39m\u001b[38;5;241m.\u001b[39mexperimental_get_tracing_count()\n\u001b[1;32m    836\u001b[0m without_tracing \u001b[38;5;241m=\u001b[39m (tracing_count \u001b[38;5;241m==\u001b[39m new_tracing_count)\n",
      "File \u001b[0;32m~/opt/miniconda3/envs/sta2453/lib/python3.10/site-packages/tensorflow/python/eager/polymorphic_function/polymorphic_function.py:878\u001b[0m, in \u001b[0;36mFunction._call\u001b[0;34m(self, *args, **kwds)\u001b[0m\n\u001b[1;32m    875\u001b[0m \u001b[38;5;28mself\u001b[39m\u001b[38;5;241m.\u001b[39m_lock\u001b[38;5;241m.\u001b[39mrelease()\n\u001b[1;32m    876\u001b[0m \u001b[38;5;66;03m# In this case we have not created variables on the first call. So we can\u001b[39;00m\n\u001b[1;32m    877\u001b[0m \u001b[38;5;66;03m# run the first trace but we should fail if variables are created.\u001b[39;00m\n\u001b[0;32m--> 878\u001b[0m results \u001b[38;5;241m=\u001b[39m \u001b[43mtracing_compilation\u001b[49m\u001b[38;5;241;43m.\u001b[39;49m\u001b[43mcall_function\u001b[49m\u001b[43m(\u001b[49m\n\u001b[1;32m    879\u001b[0m \u001b[43m    \u001b[49m\u001b[43margs\u001b[49m\u001b[43m,\u001b[49m\u001b[43m \u001b[49m\u001b[43mkwds\u001b[49m\u001b[43m,\u001b[49m\u001b[43m \u001b[49m\u001b[38;5;28;43mself\u001b[39;49m\u001b[38;5;241;43m.\u001b[39;49m\u001b[43m_variable_creation_config\u001b[49m\n\u001b[1;32m    880\u001b[0m \u001b[43m\u001b[49m\u001b[43m)\u001b[49m\n\u001b[1;32m    881\u001b[0m \u001b[38;5;28;01mif\u001b[39;00m \u001b[38;5;28mself\u001b[39m\u001b[38;5;241m.\u001b[39m_created_variables:\n\u001b[1;32m    882\u001b[0m   \u001b[38;5;28;01mraise\u001b[39;00m \u001b[38;5;167;01mValueError\u001b[39;00m(\u001b[38;5;124m\"\u001b[39m\u001b[38;5;124mCreating variables on a non-first call to a function\u001b[39m\u001b[38;5;124m\"\u001b[39m\n\u001b[1;32m    883\u001b[0m                    \u001b[38;5;124m\"\u001b[39m\u001b[38;5;124m decorated with tf.function.\u001b[39m\u001b[38;5;124m\"\u001b[39m)\n",
      "File \u001b[0;32m~/opt/miniconda3/envs/sta2453/lib/python3.10/site-packages/tensorflow/python/eager/polymorphic_function/tracing_compilation.py:139\u001b[0m, in \u001b[0;36mcall_function\u001b[0;34m(args, kwargs, tracing_options)\u001b[0m\n\u001b[1;32m    137\u001b[0m bound_args \u001b[38;5;241m=\u001b[39m function\u001b[38;5;241m.\u001b[39mfunction_type\u001b[38;5;241m.\u001b[39mbind(\u001b[38;5;241m*\u001b[39margs, \u001b[38;5;241m*\u001b[39m\u001b[38;5;241m*\u001b[39mkwargs)\n\u001b[1;32m    138\u001b[0m flat_inputs \u001b[38;5;241m=\u001b[39m function\u001b[38;5;241m.\u001b[39mfunction_type\u001b[38;5;241m.\u001b[39munpack_inputs(bound_args)\n\u001b[0;32m--> 139\u001b[0m \u001b[38;5;28;01mreturn\u001b[39;00m \u001b[43mfunction\u001b[49m\u001b[38;5;241;43m.\u001b[39;49m\u001b[43m_call_flat\u001b[49m\u001b[43m(\u001b[49m\u001b[43m  \u001b[49m\u001b[38;5;66;43;03m# pylint: disable=protected-access\u001b[39;49;00m\n\u001b[1;32m    140\u001b[0m \u001b[43m    \u001b[49m\u001b[43mflat_inputs\u001b[49m\u001b[43m,\u001b[49m\u001b[43m \u001b[49m\u001b[43mcaptured_inputs\u001b[49m\u001b[38;5;241;43m=\u001b[39;49m\u001b[43mfunction\u001b[49m\u001b[38;5;241;43m.\u001b[39;49m\u001b[43mcaptured_inputs\u001b[49m\n\u001b[1;32m    141\u001b[0m \u001b[43m\u001b[49m\u001b[43m)\u001b[49m\n",
      "File \u001b[0;32m~/opt/miniconda3/envs/sta2453/lib/python3.10/site-packages/tensorflow/python/eager/polymorphic_function/concrete_function.py:1322\u001b[0m, in \u001b[0;36mConcreteFunction._call_flat\u001b[0;34m(self, tensor_inputs, captured_inputs)\u001b[0m\n\u001b[1;32m   1318\u001b[0m possible_gradient_type \u001b[38;5;241m=\u001b[39m gradients_util\u001b[38;5;241m.\u001b[39mPossibleTapeGradientTypes(args)\n\u001b[1;32m   1319\u001b[0m \u001b[38;5;28;01mif\u001b[39;00m (possible_gradient_type \u001b[38;5;241m==\u001b[39m gradients_util\u001b[38;5;241m.\u001b[39mPOSSIBLE_GRADIENT_TYPES_NONE\n\u001b[1;32m   1320\u001b[0m     \u001b[38;5;129;01mand\u001b[39;00m executing_eagerly):\n\u001b[1;32m   1321\u001b[0m   \u001b[38;5;66;03m# No tape is watching; skip to running the function.\u001b[39;00m\n\u001b[0;32m-> 1322\u001b[0m   \u001b[38;5;28;01mreturn\u001b[39;00m \u001b[38;5;28;43mself\u001b[39;49m\u001b[38;5;241;43m.\u001b[39;49m\u001b[43m_inference_function\u001b[49m\u001b[38;5;241;43m.\u001b[39;49m\u001b[43mcall_preflattened\u001b[49m\u001b[43m(\u001b[49m\u001b[43margs\u001b[49m\u001b[43m)\u001b[49m\n\u001b[1;32m   1323\u001b[0m forward_backward \u001b[38;5;241m=\u001b[39m \u001b[38;5;28mself\u001b[39m\u001b[38;5;241m.\u001b[39m_select_forward_and_backward_functions(\n\u001b[1;32m   1324\u001b[0m     args,\n\u001b[1;32m   1325\u001b[0m     possible_gradient_type,\n\u001b[1;32m   1326\u001b[0m     executing_eagerly)\n\u001b[1;32m   1327\u001b[0m forward_function, args_with_tangents \u001b[38;5;241m=\u001b[39m forward_backward\u001b[38;5;241m.\u001b[39mforward()\n",
      "File \u001b[0;32m~/opt/miniconda3/envs/sta2453/lib/python3.10/site-packages/tensorflow/python/eager/polymorphic_function/atomic_function.py:216\u001b[0m, in \u001b[0;36mAtomicFunction.call_preflattened\u001b[0;34m(self, args)\u001b[0m\n\u001b[1;32m    214\u001b[0m \u001b[38;5;28;01mdef\u001b[39;00m\u001b[38;5;250m \u001b[39m\u001b[38;5;21mcall_preflattened\u001b[39m(\u001b[38;5;28mself\u001b[39m, args: Sequence[core\u001b[38;5;241m.\u001b[39mTensor]) \u001b[38;5;241m-\u001b[39m\u001b[38;5;241m>\u001b[39m Any:\n\u001b[1;32m    215\u001b[0m \u001b[38;5;250m  \u001b[39m\u001b[38;5;124;03m\"\"\"Calls with flattened tensor inputs and returns the structured output.\"\"\"\u001b[39;00m\n\u001b[0;32m--> 216\u001b[0m   flat_outputs \u001b[38;5;241m=\u001b[39m \u001b[38;5;28;43mself\u001b[39;49m\u001b[38;5;241;43m.\u001b[39;49m\u001b[43mcall_flat\u001b[49m\u001b[43m(\u001b[49m\u001b[38;5;241;43m*\u001b[39;49m\u001b[43margs\u001b[49m\u001b[43m)\u001b[49m\n\u001b[1;32m    217\u001b[0m   \u001b[38;5;28;01mreturn\u001b[39;00m \u001b[38;5;28mself\u001b[39m\u001b[38;5;241m.\u001b[39mfunction_type\u001b[38;5;241m.\u001b[39mpack_output(flat_outputs)\n",
      "File \u001b[0;32m~/opt/miniconda3/envs/sta2453/lib/python3.10/site-packages/tensorflow/python/eager/polymorphic_function/atomic_function.py:251\u001b[0m, in \u001b[0;36mAtomicFunction.call_flat\u001b[0;34m(self, *args)\u001b[0m\n\u001b[1;32m    249\u001b[0m \u001b[38;5;28;01mwith\u001b[39;00m record\u001b[38;5;241m.\u001b[39mstop_recording():\n\u001b[1;32m    250\u001b[0m   \u001b[38;5;28;01mif\u001b[39;00m \u001b[38;5;28mself\u001b[39m\u001b[38;5;241m.\u001b[39m_bound_context\u001b[38;5;241m.\u001b[39mexecuting_eagerly():\n\u001b[0;32m--> 251\u001b[0m     outputs \u001b[38;5;241m=\u001b[39m \u001b[38;5;28;43mself\u001b[39;49m\u001b[38;5;241;43m.\u001b[39;49m\u001b[43m_bound_context\u001b[49m\u001b[38;5;241;43m.\u001b[39;49m\u001b[43mcall_function\u001b[49m\u001b[43m(\u001b[49m\n\u001b[1;32m    252\u001b[0m \u001b[43m        \u001b[49m\u001b[38;5;28;43mself\u001b[39;49m\u001b[38;5;241;43m.\u001b[39;49m\u001b[43mname\u001b[49m\u001b[43m,\u001b[49m\n\u001b[1;32m    253\u001b[0m \u001b[43m        \u001b[49m\u001b[38;5;28;43mlist\u001b[39;49m\u001b[43m(\u001b[49m\u001b[43margs\u001b[49m\u001b[43m)\u001b[49m\u001b[43m,\u001b[49m\n\u001b[1;32m    254\u001b[0m \u001b[43m        \u001b[49m\u001b[38;5;28;43mlen\u001b[39;49m\u001b[43m(\u001b[49m\u001b[38;5;28;43mself\u001b[39;49m\u001b[38;5;241;43m.\u001b[39;49m\u001b[43mfunction_type\u001b[49m\u001b[38;5;241;43m.\u001b[39;49m\u001b[43mflat_outputs\u001b[49m\u001b[43m)\u001b[49m\u001b[43m,\u001b[49m\n\u001b[1;32m    255\u001b[0m \u001b[43m    \u001b[49m\u001b[43m)\u001b[49m\n\u001b[1;32m    256\u001b[0m   \u001b[38;5;28;01melse\u001b[39;00m:\n\u001b[1;32m    257\u001b[0m     outputs \u001b[38;5;241m=\u001b[39m make_call_op_in_graph(\n\u001b[1;32m    258\u001b[0m         \u001b[38;5;28mself\u001b[39m,\n\u001b[1;32m    259\u001b[0m         \u001b[38;5;28mlist\u001b[39m(args),\n\u001b[1;32m    260\u001b[0m         \u001b[38;5;28mself\u001b[39m\u001b[38;5;241m.\u001b[39m_bound_context\u001b[38;5;241m.\u001b[39mfunction_call_options\u001b[38;5;241m.\u001b[39mas_attrs(),\n\u001b[1;32m    261\u001b[0m     )\n",
      "File \u001b[0;32m~/opt/miniconda3/envs/sta2453/lib/python3.10/site-packages/tensorflow/python/eager/context.py:1552\u001b[0m, in \u001b[0;36mContext.call_function\u001b[0;34m(self, name, tensor_inputs, num_outputs)\u001b[0m\n\u001b[1;32m   1550\u001b[0m cancellation_context \u001b[38;5;241m=\u001b[39m cancellation\u001b[38;5;241m.\u001b[39mcontext()\n\u001b[1;32m   1551\u001b[0m \u001b[38;5;28;01mif\u001b[39;00m cancellation_context \u001b[38;5;129;01mis\u001b[39;00m \u001b[38;5;28;01mNone\u001b[39;00m:\n\u001b[0;32m-> 1552\u001b[0m   outputs \u001b[38;5;241m=\u001b[39m \u001b[43mexecute\u001b[49m\u001b[38;5;241;43m.\u001b[39;49m\u001b[43mexecute\u001b[49m\u001b[43m(\u001b[49m\n\u001b[1;32m   1553\u001b[0m \u001b[43m      \u001b[49m\u001b[43mname\u001b[49m\u001b[38;5;241;43m.\u001b[39;49m\u001b[43mdecode\u001b[49m\u001b[43m(\u001b[49m\u001b[38;5;124;43m\"\u001b[39;49m\u001b[38;5;124;43mutf-8\u001b[39;49m\u001b[38;5;124;43m\"\u001b[39;49m\u001b[43m)\u001b[49m\u001b[43m,\u001b[49m\n\u001b[1;32m   1554\u001b[0m \u001b[43m      \u001b[49m\u001b[43mnum_outputs\u001b[49m\u001b[38;5;241;43m=\u001b[39;49m\u001b[43mnum_outputs\u001b[49m\u001b[43m,\u001b[49m\n\u001b[1;32m   1555\u001b[0m \u001b[43m      \u001b[49m\u001b[43minputs\u001b[49m\u001b[38;5;241;43m=\u001b[39;49m\u001b[43mtensor_inputs\u001b[49m\u001b[43m,\u001b[49m\n\u001b[1;32m   1556\u001b[0m \u001b[43m      \u001b[49m\u001b[43mattrs\u001b[49m\u001b[38;5;241;43m=\u001b[39;49m\u001b[43mattrs\u001b[49m\u001b[43m,\u001b[49m\n\u001b[1;32m   1557\u001b[0m \u001b[43m      \u001b[49m\u001b[43mctx\u001b[49m\u001b[38;5;241;43m=\u001b[39;49m\u001b[38;5;28;43mself\u001b[39;49m\u001b[43m,\u001b[49m\n\u001b[1;32m   1558\u001b[0m \u001b[43m  \u001b[49m\u001b[43m)\u001b[49m\n\u001b[1;32m   1559\u001b[0m \u001b[38;5;28;01melse\u001b[39;00m:\n\u001b[1;32m   1560\u001b[0m   outputs \u001b[38;5;241m=\u001b[39m execute\u001b[38;5;241m.\u001b[39mexecute_with_cancellation(\n\u001b[1;32m   1561\u001b[0m       name\u001b[38;5;241m.\u001b[39mdecode(\u001b[38;5;124m\"\u001b[39m\u001b[38;5;124mutf-8\u001b[39m\u001b[38;5;124m\"\u001b[39m),\n\u001b[1;32m   1562\u001b[0m       num_outputs\u001b[38;5;241m=\u001b[39mnum_outputs,\n\u001b[0;32m   (...)\u001b[0m\n\u001b[1;32m   1566\u001b[0m       cancellation_manager\u001b[38;5;241m=\u001b[39mcancellation_context,\n\u001b[1;32m   1567\u001b[0m   )\n",
      "File \u001b[0;32m~/opt/miniconda3/envs/sta2453/lib/python3.10/site-packages/tensorflow/python/eager/execute.py:53\u001b[0m, in \u001b[0;36mquick_execute\u001b[0;34m(op_name, num_outputs, inputs, attrs, ctx, name)\u001b[0m\n\u001b[1;32m     51\u001b[0m \u001b[38;5;28;01mtry\u001b[39;00m:\n\u001b[1;32m     52\u001b[0m   ctx\u001b[38;5;241m.\u001b[39mensure_initialized()\n\u001b[0;32m---> 53\u001b[0m   tensors \u001b[38;5;241m=\u001b[39m \u001b[43mpywrap_tfe\u001b[49m\u001b[38;5;241;43m.\u001b[39;49m\u001b[43mTFE_Py_Execute\u001b[49m\u001b[43m(\u001b[49m\u001b[43mctx\u001b[49m\u001b[38;5;241;43m.\u001b[39;49m\u001b[43m_handle\u001b[49m\u001b[43m,\u001b[49m\u001b[43m \u001b[49m\u001b[43mdevice_name\u001b[49m\u001b[43m,\u001b[49m\u001b[43m \u001b[49m\u001b[43mop_name\u001b[49m\u001b[43m,\u001b[49m\n\u001b[1;32m     54\u001b[0m \u001b[43m                                      \u001b[49m\u001b[43minputs\u001b[49m\u001b[43m,\u001b[49m\u001b[43m \u001b[49m\u001b[43mattrs\u001b[49m\u001b[43m,\u001b[49m\u001b[43m \u001b[49m\u001b[43mnum_outputs\u001b[49m\u001b[43m)\u001b[49m\n\u001b[1;32m     55\u001b[0m \u001b[38;5;28;01mexcept\u001b[39;00m core\u001b[38;5;241m.\u001b[39m_NotOkStatusException \u001b[38;5;28;01mas\u001b[39;00m e:\n\u001b[1;32m     56\u001b[0m   \u001b[38;5;28;01mif\u001b[39;00m name \u001b[38;5;129;01mis\u001b[39;00m \u001b[38;5;129;01mnot\u001b[39;00m \u001b[38;5;28;01mNone\u001b[39;00m:\n",
      "\u001b[0;31mKeyboardInterrupt\u001b[0m: "
     ]
    }
   ],
   "source": [
    "# Store results for LSTM with LOPO\n",
    "results_lstm_lopo = {\"accuracy\": []}\n",
    "\n",
    "# LOPO Training and Evaluation for LSTM\n",
    "for lt_fish, smb_fish in lopo_pairs:\n",
    "    # Identify training and test indices\n",
    "    test_indices = [fish_nums.index(lt_fish), fish_nums.index(smb_fish)]\n",
    "    train_indices = [i for i in range(len(fish_nums)) if i not in test_indices]\n",
    "\n",
    "    # Split data\n",
    "    X_train, X_test = fish_sequences_padded[train_indices], fish_sequences_padded[test_indices]\n",
    "    y_train, y_test = fish_labels_encoded[train_indices], fish_labels_encoded[test_indices]\n",
    "\n",
    "    # Train LSTM model\n",
    "    lstm_model = build_lstm_model(input_shape)\n",
    "    lstm_model.fit(X_train, y_train, epochs=10, batch_size=2, verbose=0)\n",
    "\n",
    "    # Predict and evaluate\n",
    "    y_pred = (lstm_model.predict(X_test) > 0.5).astype(\"int32\").flatten()\n",
    "    results_lstm_lopo[\"accuracy\"].append(accuracy_score(y_test, y_pred))\n",
    "\n",
    "# Aggregate results\n",
    "summary_lstm_lopo = {\n",
    "    \"Mean Accuracy After LOPO (LSTM)\": np.mean(results_lstm_lopo[\"accuracy\"])\n",
    "}\n",
    "\n",
    "# Convert to DataFrame and display results\n",
    "summary_df_lstm_lopo = pd.DataFrame([summary_lstm_lopo])\n",
    "print(summary_df_lstm_lopo) "
   ]
  }
 ],
 "metadata": {
  "kernelspec": {
   "display_name": "sta2453",
   "language": "python",
   "name": "python3"
  },
  "language_info": {
   "codemirror_mode": {
    "name": "ipython",
    "version": 3
   },
   "file_extension": ".py",
   "mimetype": "text/x-python",
   "name": "python",
   "nbconvert_exporter": "python",
   "pygments_lexer": "ipython3",
   "version": "3.10.16"
  }
 },
 "nbformat": 4,
 "nbformat_minor": 2
}
